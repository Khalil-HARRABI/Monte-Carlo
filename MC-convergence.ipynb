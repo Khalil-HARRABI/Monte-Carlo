{
 "cells": [
  {
   "cell_type": "code",
   "execution_count": 3,
   "id": "b3be0af2",
   "metadata": {},
   "outputs": [],
   "source": [
    "import numpy as np\n",
    "import matplotlib.pyplot as plt\n",
    "import pandas as pd "
   ]
  },
  {
   "cell_type": "code",
   "execution_count": 4,
   "id": "6fddbc23",
   "metadata": {},
   "outputs": [],
   "source": [
    "def grille_sauts(T, kn,lamda):\n",
    "    jumps_t = []\n",
    "    grid = []\n",
    "    x =  np.random.exponential(lamda)\n",
    "    sum_x = x\n",
    "    \n",
    "    vec = []\n",
    "    t = 0\n",
    "    vec.append(t)\n",
    "    vec.append(0)\n",
    "    grid.append(vec)\n",
    "    vec = []\n",
    "    \n",
    "    # construction of the jump times\n",
    "    while sum_x < T:\n",
    "        jumps_t.append(sum_x)\n",
    "        x = np.random.exponential(lamda)\n",
    "        sum_x += x\n",
    "    \n",
    "    i = 0\n",
    "    # construction of the grid on the interval [0,last jump]\n",
    "    jump_size = len(jumps_t)\n",
    "    epsilon = 0\n",
    "    while t < T and i < jump_size:\n",
    "        epsilon = 0\n",
    "        t = min(t + 1.0/kn, jumps_t[i])\n",
    "        if t == jumps_t[i]:\n",
    "            i += 1\n",
    "            epsilon = 1 # it is a jump time\n",
    "        \n",
    "        vec.append(t)\n",
    "        vec.append(epsilon)\n",
    "        grid.append(vec)\n",
    "        \n",
    "        vec = []\n",
    "    \n",
    "    # to construct the grid on the inverval ]last jump, T]\n",
    "    while t < T:\n",
    "        t += 1.0/kn\n",
    "        \n",
    "        vec.append(t)\n",
    "        vec.append(0) # epsilon = 0\n",
    "        grid.append(vec)\n",
    "        \n",
    "        vec = []\n",
    "    \n",
    "    vec = []\n",
    "    vec.append(T)\n",
    "    vec.append(0)\n",
    "    \n",
    "    if grid[-1][0] < T:\n",
    "        grid.append(vec)\n",
    "    \n",
    "    if grid[-1][0] > T:\n",
    "        grid.pop()\n",
    "        grid.append(vec)\n",
    "    \n",
    "    return grid\n"
   ]
  },
  {
   "cell_type": "code",
   "execution_count": 5,
   "id": "220f9827",
   "metadata": {},
   "outputs": [],
   "source": [
    "import math\n",
    "import random\n",
    "\n",
    "def k_n(theta_n, bn, c, w_n):\n",
    "    if min(theta_n / (bn ** 2), math.sqrt(theta_n) / c) >= w_n:\n",
    "        return 1\n",
    "    else:\n",
    "        return max(bn ** 2 * w_n, (c * w_n) ** 2)\n",
    "\n",
    "def inverted_h_premiere_mesure_infinie(u, alpha, theta_n, un):\n",
    "    if u < 1 / 2:\n",
    "        return -((2 * u) ** (-1 / alpha)) / un\n",
    "    else:\n",
    "        return ((2 - alpha * theta_n * u / un ** alpha) ** (-1 / alpha)) / un\n",
    "\n",
    "def inverted_h_seconde_mesure_infinie(u, alpha, theta_n, un):\n",
    "    if u < (1 / (alpha * theta_n)) * (un ** alpha - 1):\n",
    "        return -((alpha * theta_n * u + 1) ** (-1 / alpha))\n",
    "    else:\n",
    "        return ((-alpha * theta_n * u + 2 * un ** alpha - 1) ** (-1 / alpha))"
   ]
  },
  {
   "cell_type": "code",
   "execution_count": 6,
   "id": "435fe57f",
   "metadata": {},
   "outputs": [],
   "source": [
    "def diff_x_y(M, x0, T, kn, un, c, bn, alpha, theta_n, wn):\n",
    "    results = []\n",
    "    grid = []\n",
    "    x = x0\n",
    "    y = x0\n",
    "    h = 0\n",
    "    saut = 0\n",
    "    var_norm = 0\n",
    "    w = 0\n",
    "    grid_taille = 0\n",
    "    \n",
    "    for j in range(1, M):\n",
    "        h = 0\n",
    "        saut = 0\n",
    "        x = x0\n",
    "        grid.clear()\n",
    "        grid = grille_sauts(T, kn, theta_n)\n",
    "        grid_taille = len(grid)\n",
    "        \n",
    "        for i in range(1, grid_taille):\n",
    "            z=np.random.normal(0, 1)\n",
    "            u=np.random.uniform(0,1)\n",
    "            h = grid[i][0] - grid[i-1][0]\n",
    "            var_norm = z * math.sqrt(c * h)\n",
    "            x = x *np.exp( bn * h + var_norm)\n",
    "            w += var_norm\n",
    "            if grid[i][1] != 0:\n",
    "                #saut=inverted_h_premiere_mesure_infinie(u, alpha, theta_n, un)\n",
    "                saut =inverted_h_seconde_mesure_infinie(u, alpha, theta_n, un)\n",
    "                x = x * (1 + saut)\n",
    "                y = y * (1 + saut)\n",
    "                \n",
    "        results.append(wn * (y * math.exp(bn - c / 2 + w) - x))\n",
    "    \n",
    "    return results\n",
    "\n",
    "\n",
    "def seconde_methode(M, kn, un, alpha, theta_n, wn,lamda):\n",
    "    results = []\n",
    "    interm = wn*math.sqrt(min(1/theta_n,1/kn))\n",
    "    x, nombre_de_saut = 1, 0\n",
    "    for j in range(1,M):\n",
    "        nombre_de_saut = np.random.poisson(lamda)\n",
    "        x = 1\n",
    "        for i in range(1,nombre_de_saut):\n",
    "            z=np.random.normal(0, 1)\n",
    "            u=np.random.uniform(0,1)\n",
    "            #x=x*(1 + inverted_h_premiere_mesure_infinie(u, alpha, theta_n, un))\n",
    "            x = x * (1 + inverted_h_seconde_mesure_infinie(u, alpha, theta_n, un))\n",
    "        results.append(interm*x)\n",
    "    return results\n",
    "\n",
    "def diff_esperance_x_y(M, x0, T, kn, un, c, bn, alpha, wn, uN, theta_N):\n",
    "    #expo = lambda t: np.exp(-theta_n*t)\n",
    "    #var_poisson = lambda: np.random.poisson(theta_N/T)\n",
    "\n",
    "    sum1, sum2 = 0, 0\n",
    "    sqrtc = math.sqrt(c)\n",
    "   # interm = np.exp(bn-c/2)\n",
    "\n",
    "    for j in range(1,M):\n",
    "        x = x0\n",
    "        nombre_de_saut = np.random.poisson(1/theta_N)\n",
    "        #print(nombre_de_saut)\n",
    "        z=np.random.normal(0, 1)\n",
    "        for i in range(1,nombre_de_saut):\n",
    "            \n",
    "            u=np.random.uniform(0,1)\n",
    "            #x=x*(1 + inverted_h_premiere_mesure_infinie(u, alpha, theta_N, uN))\n",
    "            x = x * (1 + inverted_h_seconde_mesure_infinie(u, alpha, theta_N, uN))\n",
    "        sum1 += x*np.exp(bn-c/2+sqrtc*z)\n",
    "\n",
    "    sum1 = sum1/M\n",
    "    #print(sum1)\n",
    "    for j in range(1,M):\n",
    "        h, saut, x = 0, 0, x0\n",
    "        grid = grille_sauts(T, kn, theta_N)\n",
    "        grid_taille = len(grid)\n",
    "\n",
    "        for i in range(1,grid_taille):\n",
    "            z=np.random.normal(0, 1)\n",
    "            u=np.random.uniform(0,1)\n",
    "            h = grid[i][0] - grid[i-1][0]\n",
    "            x = x * np.exp( (bn-c/2) * h + z * math.sqrt(c * h))\n",
    "            if (grid[i][1] != 0):\n",
    "                saut =  inverted_h_seconde_mesure_infinie(u, alpha, theta_N, uN)\n",
    "                #saut =  inverted_h_premiere_mesure_infinie(u, alpha, theta_N, uN)\n",
    "                x = x * (1 + saut)\n",
    "        sum2 += x\n",
    "\n",
    "    sum2 = sum2/M\n",
    "    #print(sum2)\n",
    "    return wn*(sum1-sum2)\n",
    "\n",
    "def plusieurs_diff_esperance_x_y(M, x0, T, c, bn, alpha, uN):\n",
    "    results = []\n",
    "    for un in range(1,uN,500):\n",
    "        z=np.random.normal(0, 1)\n",
    "        u=np.random.uniform(0,1)\n",
    "        theta_n2 = (2*pow(un,alpha)-1)/alpha\n",
    "        wn2 = (pow(2*pow(un,alpha-2)/(2-alpha),-1/2))\n",
    "        kn2 = k_n(theta_n2, bn, c, wn2)\n",
    "        results.append(diff_esperance_x_y(M, x0, T, kn2, un, c, bn, alpha, wn2, uN, theta_n2))\n",
    "    return results\n"
   ]
  },
  {
   "cell_type": "code",
   "execution_count": 20,
   "id": "63b0d625",
   "metadata": {},
   "outputs": [],
   "source": [
    "M = 100000 # Number of paths\n",
    "x0 = 100  # Spot\n",
    "T = 1\n",
    "uN = pow(10, 4)\n",
    "alpha_1 = 1.5\n",
    "alpha_2 = 1.8\n",
    "bn = 1\n",
    "c = 1\n",
    "theta_N_1 = (2 * pow(uN, alpha_1)) / alpha_1\n",
    "wN_1 = np.sqrt((2 - alpha_1) / 2) * pow(uN, (2 - alpha_1) / 2)\n",
    "theta_N_2 = (2* pow(uN, alpha_2) - 1) / alpha_2\n",
    "wN_2 = pow(2 * pow(uN, alpha_2 - 2) / (2 - alpha_2), -1 / 2)\n",
    "kN_1 = k_n(theta_N_1, bn, c, wN_1)\n",
    "kN_2 = k_n(theta_N_2, bn, c, wN_2)\n",
    "lamda=4\n",
    "strike = 120\n",
    "kn = 1000"
   ]
  },
  {
   "cell_type": "code",
   "execution_count": 21,
   "id": "89719bc6",
   "metadata": {},
   "outputs": [
    {
     "data": {
      "image/png": "[encoded data removed]",
      "text/plain": [
       "<Figure size 432x288 with 1 Axes>"
      ]
     },
     "metadata": {
      "needs_background": "light"
     },
     "output_type": "display_data"
    }
   ],
   "source": [
    "plt.hist(diff_x_y(M, x0, T, kN_2, uN, c, bn, alpha_2, theta_N_2, wN_2))\n",
    "plt.show()"
   ]
  },
  {
   "cell_type": "code",
   "execution_count": 22,
   "id": "f68994b8",
   "metadata": {},
   "outputs": [
    {
     "data": {
      "image/png": "[encoded data removed]",
      "text/plain": [
       "<Figure size 432x288 with 1 Axes>"
      ]
     },
     "metadata": {
      "needs_background": "light"
     },
     "output_type": "display_data"
    }
   ],
   "source": [
    "plt.hist(seconde_methode(M, kN_2, uN, alpha_2, theta_N_2, wN_2,lamda))\n",
    "plt.show()"
   ]
  },
  {
   "cell_type": "code",
   "execution_count": 23,
   "id": "d12cbe8d",
   "metadata": {},
   "outputs": [
    {
     "data": {
      "image/png": "[encoded data removed]",
      "text/plain": [
       "<Figure size 432x288 with 1 Axes>"
      ]
     },
     "metadata": {
      "needs_background": "light"
     },
     "output_type": "display_data"
    }
   ],
   "source": [
    "plt.hist(diff_esperance_x_y(M, x0, T, kN_2, uN, c, bn, alpha_2, wN_2, uN, theta_N_2))\n",
    "plt.show()"
   ]
  },
  {
   "cell_type": "code",
   "execution_count": 25,
   "id": "415ae578",
   "metadata": {},
   "outputs": [
    {
     "data": {
      "image/png": "[encoded data removed]",
      "text/plain": [
       "<Figure size 432x288 with 1 Axes>"
      ]
     },
     "metadata": {
      "needs_background": "light"
     },
     "output_type": "display_data"
    }
   ],
   "source": [
    "plt.hist(plusieurs_diff_esperance_x_y(M, x0, T, c, bn, alpha_2, uN))\n",
    "plt.show()"
   ]
  },
  {
   "cell_type": "code",
   "execution_count": null,
   "id": "1b50ea2d",
   "metadata": {},
   "outputs": [],
   "source": []
  }
 ],
 "metadata": {
  "kernelspec": {
   "display_name": "Python 3 (ipykernel)",
   "language": "python",
   "name": "python3"
  },
  "language_info": {
   "codemirror_mode": {
    "name": "ipython",
    "version": 3
   },
   "file_extension": ".py",
   "mimetype": "text/x-python",
   "name": "python",
   "nbconvert_exporter": "python",
   "pygments_lexer": "ipython3",
   "version": "3.8.2"
  }
 },
 "nbformat": 4,
 "nbformat_minor": 5
}
