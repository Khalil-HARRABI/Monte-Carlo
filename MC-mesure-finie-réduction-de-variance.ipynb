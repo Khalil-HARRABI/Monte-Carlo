{
 "cells": [
  {
   "cell_type": "code",
   "execution_count": 1,
   "id": "58f75853",
   "metadata": {},
   "outputs": [],
   "source": [
    "import numpy as np\n",
    "import matplotlib.pyplot as plt\n",
    "import math\n",
    "from scipy.stats import norm\n",
    "from scipy import stats"
   ]
  },
  {
   "cell_type": "markdown",
   "id": "38a310f4",
   "metadata": {},
   "source": [
    "## grille des sauts"
   ]
  },
  {
   "cell_type": "code",
   "execution_count": 2,
   "id": "2a5036db",
   "metadata": {},
   "outputs": [],
   "source": [
    "def grille_sauts(T, kn,lamda):\n",
    "    jumps_t = []\n",
    "    grid = []\n",
    "    x =  np.random.exponential(1/lamda)\n",
    "    sum_x = x\n",
    "    \n",
    "    vec = []\n",
    "    t = 0\n",
    "    vec.append(t)\n",
    "    vec.append(0)\n",
    "    grid.append(vec)\n",
    "    vec = []\n",
    "    \n",
    "    # construction of the jump times\n",
    "    while sum_x < T:\n",
    "        jumps_t.append(sum_x)\n",
    "        x = np.random.exponential(1/lamda)\n",
    "        sum_x += x\n",
    "    \n",
    "    i = 0\n",
    "    # construction of the grid on the interval [0,last jump]\n",
    "    jump_size = len(jumps_t)\n",
    "    epsilon = 0\n",
    "    while t < T and i < jump_size:\n",
    "        epsilon = 0\n",
    "        t = min(t + 1.0/kn, jumps_t[i])\n",
    "        if t == jumps_t[i]:\n",
    "            i += 1\n",
    "            epsilon = 1 # it is a jump time\n",
    "        \n",
    "        vec.append(t)\n",
    "        vec.append(epsilon)\n",
    "        grid.append(vec)\n",
    "        \n",
    "        vec = []\n",
    "    \n",
    "    # to construct the grid on the inverval ]last jump, T]\n",
    "    while t < T:\n",
    "        t += 1.0/kn\n",
    "        \n",
    "        vec.append(t)\n",
    "        vec.append(0) # epsilon = 0\n",
    "        grid.append(vec)\n",
    "        \n",
    "        vec = []\n",
    "    \n",
    "    vec = []\n",
    "    vec.append(T)\n",
    "    vec.append(0)\n",
    "    \n",
    "    if grid[-1][0] < T:\n",
    "        grid.append(vec)\n",
    "    \n",
    "    if grid[-1][0] > T:\n",
    "        grid.pop()\n",
    "        grid.append(vec)\n",
    "    \n",
    "    return grid\n"
   ]
  },
  {
   "cell_type": "markdown",
   "id": "ca674589",
   "metadata": {},
   "source": [
    "## call"
   ]
  },
  {
   "cell_type": "code",
   "execution_count": 3,
   "id": "a0193d35",
   "metadata": {},
   "outputs": [],
   "source": [
    "def european_call(K,T,sig,r,S_t,t=0):\n",
    "    d1=(1/(sig*np.sqrt(T-t)))*(np.log(S_t/K)+(r+((sig**2)/2))*(T-t))\n",
    "    d2=d1-sig*np.sqrt(T-t)\n",
    "    C=S_t*(norm.cdf(d1))-K*np.exp(-r*(T-t))*norm.cdf(d2)\n",
    "    return C "
   ]
  },
  {
   "cell_type": "code",
   "execution_count": 4,
   "id": "e617302f",
   "metadata": {},
   "outputs": [],
   "source": [
    "def normalCFD(value):\n",
    "    return 0.5 * math.erfc(-value * math.sqrt(1/2))\n",
    "\n",
    "\n",
    "def kou_doleans_dade_2_call(M, p, lambda_, lambda_plus, lambda_moins, strike, x0, T, c, r):\n",
    "    result = []\n",
    "    interm=[]\n",
    "    b =r -c/2- lambda_*(p*(lambda_plus/(lambda_plus - 1)) + (1-p)*lambda_moins/(lambda_moins+1) -1 )\n",
    "    sqrtc = math.sqrt(c)\n",
    "    for j in range(1, M):\n",
    "        saut = 0\n",
    "        nombre_de_saut = np.random.poisson(lambda_)\n",
    "        for i in range(nombre_de_saut):\n",
    "            u=np.random.uniform(0,1)\n",
    "            H = np.random.binomial(n=1, p=p)\n",
    "            saut +=( H *(-math.log(u)/lambda_plus) + (1-H)* math.log(u)/lambda_moins)\n",
    "        z=np.random.normal(0, 1)\n",
    "        interm.append(max(0, x0 * math.exp(b + sqrtc * z +saut) - strike))\n",
    "    #result.append(np.mean(interm))\n",
    "    #result.append(1.96*np.std(interm)/np.sqrt(M))\n",
    "    result = { 'mean': np.mean(interm), 'std': np.std(interm), \n",
    "               'lower': np.mean(interm) - 1.96*np.std(interm)/np.sqrt(M), \n",
    "               'upper': np.mean(interm) + 1.96*np.std(interm)/np.sqrt(M) }\n",
    "    return result\n",
    "def kou_doleans_dade_2_call_reducVar(M, p, lamda, lambd_plus, lambd_moins, strike, x0, T, c, r):\n",
    "    result = []\n",
    "    interm=[]\n",
    "\n",
    "    b = r -c/2- lamda*(p*(lambd_plus/(lambd_plus - 1)) + (1-p)*lambd_moins/(lambd_moins+1) -1 )\n",
    "    sqrtc = np.sqrt(c)\n",
    "    \n",
    "    for j in range(1, M):\n",
    "        saut = 0\n",
    "        nombre_de_saut = np.random.poisson(lamda)\n",
    "        for i in range( nombre_de_saut):\n",
    "            u=np.random.uniform(0,1)\n",
    "            v=np.random.uniform(0,1)\n",
    "            H = np.random.binomial(n=1, p=p)\n",
    "            saut +=( H*(-math.log(u)/lambd_plus) + (1-H)*math.log(v)/lambd_moins)\n",
    "            \n",
    "        mu = x0 * np.exp(b + c/2 + saut)\n",
    "        interm.append(european_call(strike,1,c,r,mu,t=0))\n",
    "   \n",
    "    #result.append(np.mean(interm))\n",
    "    #result.append(1.96*np.std(interm)/np.sqrt(M))\n",
    "    result = { 'mean': np.mean(interm), 'std': np.std(interm), \n",
    "               'lower': np.mean(interm) - 1.96*np.std(interm)/np.sqrt(M), \n",
    "               'upper': np.mean(interm) + 1.96*np.std(interm)/np.sqrt(M) }\n",
    "    return result\n",
    "       \n",
    "\n",
    "\n",
    "def merton_call_reducVar(M, lamda, delta, strike, x0, T, r, c):\n",
    "    interm = []\n",
    "    result = []\n",
    "    b = r - c/2 + lamda * (1 - np.exp((delta**2)/2))\n",
    "    sqrtc = np.sqrt(c)\n",
    "    for j in range(1, M):\n",
    "        realisation_normale = 0\n",
    "        N_T=np.random.poisson(lamda)\n",
    "        for i in range( N_T):         \n",
    "            z=np.random.normal(0, 1)\n",
    "            realisation_normale += z\n",
    "\n",
    "        mu = x0 * np.exp(b + c/2 + delta * realisation_normale)\n",
    "        mu_1 = x0 * np.exp(b + c/2 - delta * realisation_normale)\n",
    "        interm.append((european_call(strike,1,c,r,mu,t=0)+european_call(strike,1,c,r,mu_1,t=0))/2)\n",
    "\n",
    "    #result.append(np.mean(interm))\n",
    "    #result.append(1.96*np.std(interm)/np.sqrt(M))\n",
    "    result = { 'mean': np.mean(interm), 'std': np.std(interm), \n",
    "               'lower': np.mean(interm) - 1.96*np.std(interm)/np.sqrt(M), \n",
    "               'upper': np.mean(interm) + 1.96*np.std(interm)/np.sqrt(M) }\n",
    "    return result"
   ]
  },
  {
   "cell_type": "code",
   "execution_count": 5,
   "id": "91325374",
   "metadata": {},
   "outputs": [],
   "source": [
    "b = 0.01\n",
    "c = 0.04\n",
    "lambda_moins=6\n",
    "lambda_=4\n",
    "lambda_plus=3\n",
    "p=0.5\n",
    "x0=100\n",
    "strike=[80,100,120]\n",
    "T=1\n",
    "kn=1000\n",
    "M=10000\n",
    "r=0.02\n",
    "delta=0.2\n"
   ]
  },
  {
   "cell_type": "code",
   "execution_count": 6,
   "id": "97224ee4",
   "metadata": {},
   "outputs": [
    {
     "name": "stdout",
     "output_type": "stream",
     "text": [
      "strike: 80\n",
      "{'mean': 47.30660123471908, 'std': 275.1663081691987, 'lower': 41.913341594602784, 'upper': 52.69986087483538}\n",
      "strike: 100\n",
      "{'mean': 37.99287770284061, 'std': 211.1487593259265, 'lower': 33.85436202005245, 'upper': 42.13139338562877}\n",
      "strike: 120\n",
      "{'mean': 32.74910699630464, 'std': 212.51243845411057, 'lower': 28.58386320260407, 'upper': 36.91435079000521}\n"
     ]
    }
   ],
   "source": [
    "for s in strike:\n",
    "    print('strike:',s)\n",
    "    print(kou_doleans_dade_2_call(M, p, lambda_, lambda_plus, lambda_moins, s, x0, T, c, r))"
   ]
  },
  {
   "cell_type": "code",
   "execution_count": 7,
   "id": "87933698",
   "metadata": {},
   "outputs": [
    {
     "name": "stdout",
     "output_type": "stream",
     "text": [
      "strike: 80\n",
      "{'mean': 49.01937409099591, 'std': 256.29376822591115, 'lower': 43.99601623376805, 'upper': 54.04273194822377}\n",
      "strike: 100\n",
      "{'mean': 32.80623478416636, 'std': 130.27353996861055, 'lower': 30.25287340078159, 'upper': 35.359596167551125}\n",
      "strike: 120\n",
      "{'mean': 30.057715767266213, 'std': 151.53152573380538, 'lower': 27.08769786288363, 'upper': 33.0277336716488}\n"
     ]
    }
   ],
   "source": [
    "for s in strike:\n",
    "    print('strike:',s)\n",
    "    print(kou_doleans_dade_2_call_reducVar(M, p, lambda_, lambda_plus, lambda_moins, s, x0, T, c, r))"
   ]
  },
  {
   "cell_type": "code",
   "execution_count": 8,
   "id": "6709427c",
   "metadata": {},
   "outputs": [
    {
     "name": "stdout",
     "output_type": "stream",
     "text": [
      "strike: 80\n",
      "{'mean': 28.742739185410173, 'std': 19.892373566342844, 'lower': 28.352848663509853, 'upper': 29.132629707310493}\n",
      "strike: 100\n",
      "{'mean': 17.449495009158575, 'std': 20.577570532409617, 'lower': 17.046174626723346, 'upper': 17.852815391593804}\n",
      "strike: 120\n",
      "{'mean': 10.61930203158278, 'std': 19.612372160638465, 'lower': 10.234899537234266, 'upper': 11.003704525931294}\n"
     ]
    }
   ],
   "source": [
    "for s in strike:\n",
    "    print('strike:',s)\n",
    "    print(merton_call_reducVar(M, lambda_, delta, s, x0, T, r, c))"
   ]
  }
 ],
 "metadata": {
  "kernelspec": {
   "display_name": "Python 3 (ipykernel)",
   "language": "python",
   "name": "python3"
  },
  "language_info": {
   "codemirror_mode": {
    "name": "ipython",
    "version": 3
   },
   "file_extension": ".py",
   "mimetype": "text/x-python",
   "name": "python",
   "nbconvert_exporter": "python",
   "pygments_lexer": "ipython3",
   "version": "3.8.2"
  }
 },
 "nbformat": 4,
 "nbformat_minor": 5
}
