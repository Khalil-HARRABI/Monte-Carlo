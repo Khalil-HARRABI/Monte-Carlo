{
 "cells": [
  {
   "cell_type": "code",
   "execution_count": 1,
   "id": "a3ad0a52",
   "metadata": {},
   "outputs": [],
   "source": [
    "import numpy as np\n",
    "import matplotlib.pyplot as plt"
   ]
  },
  {
   "cell_type": "markdown",
   "id": "1c8cb5cb",
   "metadata": {},
   "source": [
    "## grille sauts"
   ]
  },
  {
   "cell_type": "code",
   "execution_count": 2,
   "id": "3e32f730",
   "metadata": {},
   "outputs": [],
   "source": [
    "def grille_sauts(T, kn,lamda):\n",
    "    jumps_t = []\n",
    "    grid = []\n",
    "    x =  np.random.exponential(1/lamda)\n",
    "    sum_x = x\n",
    "    \n",
    "    vec = []\n",
    "    t = 0\n",
    "    vec.append(t)\n",
    "    vec.append(0)\n",
    "    grid.append(vec)\n",
    "    vec = []\n",
    "    \n",
    "    # construction of the jump times\n",
    "    while sum_x < T:\n",
    "        jumps_t.append(sum_x)\n",
    "        x = np.random.exponential(1/lamda)\n",
    "        sum_x += x\n",
    "    \n",
    "    i = 0\n",
    "    # construction of the grid on the interval [0,last jump]\n",
    "    jump_size = len(jumps_t)\n",
    "    epsilon = 0\n",
    "    while t < T and i < jump_size:\n",
    "        epsilon = 0\n",
    "        t = min(t + 1.0/kn, jumps_t[i])\n",
    "        if t == jumps_t[i]:\n",
    "            i += 1\n",
    "            epsilon = 1 # it is a jump time\n",
    "        \n",
    "        vec.append(t)\n",
    "        vec.append(epsilon)\n",
    "        grid.append(vec)\n",
    "        \n",
    "        vec = []\n",
    "    \n",
    "    # to construct the grid on the inverval ]last jump, T]\n",
    "    while t < T:\n",
    "        t += 1.0/kn\n",
    "        \n",
    "        vec.append(t)\n",
    "        vec.append(0) # epsilon = 0\n",
    "        grid.append(vec)\n",
    "        \n",
    "        vec = []\n",
    "    \n",
    "    vec = []\n",
    "    vec.append(T)\n",
    "    vec.append(0)\n",
    "    \n",
    "    if grid[-1][0] < T:\n",
    "        grid.append(vec)\n",
    "    \n",
    "    if grid[-1][0] > T:\n",
    "        grid.pop()\n",
    "        grid.append(vec)\n",
    "    \n",
    "    return grid\n"
   ]
  },
  {
   "cell_type": "markdown",
   "id": "0f255ad7",
   "metadata": {},
   "source": [
    "## call"
   ]
  },
  {
   "cell_type": "code",
   "execution_count": 3,
   "id": "e81ead4a",
   "metadata": {},
   "outputs": [],
   "source": [
    "import math\n",
    "import numpy as np\n",
    "\n",
    "def inverted_h_kou(u, lambda_moins, lambda_plus, p):\n",
    "    if u < 1 - p:\n",
    "        return (u / (1 - p))**(1 / lambda_moins) - 1\n",
    "    else:\n",
    "        return (p / (1 - u))**(1 / lambda_plus) - 1\n",
    "\n",
    "def kou_euler_scheme_call(M, strike, x0, T, kn, c, r, lambda_, lambda_plus, lambda_moins, p):\n",
    "    result = []\n",
    "    interm=[]\n",
    "    x = x0\n",
    "    b =r -c/2- lambda_*(p*(lambda_plus/(lambda_plus - 1)) + (1-p)*lambda_moins/(lambda_moins+1) -1 )\n",
    "    for j in range(1, M):\n",
    "        x = x0\n",
    "        grid=grille_sauts(T, kn,lambda_)\n",
    "        for i in range(1, len(grid)):\n",
    "            z=np.random.normal(0, 1)\n",
    "            u=np.random.uniform(0,1)                                           \n",
    "            h = grid[i][0] - grid[i-1][0]\n",
    "            x = x * np.exp(b * h + z * np.sqrt(c * h))\n",
    "            if grid[i][1] != 0:\n",
    "                saut = inverted_h_kou(u, lambda_moins, lambda_plus, p)\n",
    "                x = x * (1 + saut)\n",
    "        interm.append(max(0, x - strike))\n",
    "    #result.append(np.mean(interm))\n",
    "    #result.append(1.96*np.std(interm)/np.sqrt(M))\n",
    "    result = { 'mean': np.mean(interm), 'std': np.std(interm), \n",
    "               'lower': np.mean(interm) - 1.96*np.std(interm)/np.sqrt(M), \n",
    "               'upper': np.mean(interm) + 1.96*np.std(interm)/np.sqrt(M) }\n",
    "    return result\n",
    "\n",
    "def kou_doleans_dade_call(M, p, lambda_, lambda_plus, lambda_moins, strike, x0, T, c, r):\n",
    "    result = []\n",
    "    interm=[]\n",
    "    y = x0\n",
    "    b = r-c/2- lambda_*(p*(lambda_plus/(lambda_plus - 1)) + (1-p)*lambda_moins/(lambda_moins+1) -1 )\n",
    "    sqrtc = np.sqrt(c)\n",
    "    for j in range(1, M):\n",
    "        saut = 0\n",
    "        y = x0\n",
    "        nbre_de_saut = np.random.poisson(lambda_)\n",
    "        \n",
    "        for i in range(nbre_de_saut):\n",
    "            \n",
    "            u=np.random.uniform(0,1)\n",
    "            saut = inverted_h_kou(u, lambda_moins, lambda_plus, p)\n",
    "            y = y * (1+saut)\n",
    "        z=np.random.normal(0, 1)\n",
    "        interm.append(max(0,y * np.exp(b + sqrtc*z)-strike ))\n",
    "    #result.append(np.mean(interm))\n",
    "    #result.append(1.96*np.std(interm)/np.sqrt(M))\n",
    "    result = { 'mean': np.mean(interm), 'std': np.std(interm), \n",
    "               'lower': np.mean(interm) - 1.96*np.std(interm)/np.sqrt(M), \n",
    "               'upper': np.mean(interm) + 1.96*np.std(interm)/np.sqrt(M) }\n",
    "    return result\n",
    "def kou_doleans_dade_2_call(M, p, lamda, lamda_plus, lamda_minus, strike, x0, T, c, r):\n",
    "    result = []\n",
    "    interm=[]\n",
    "    b =r -c/2- lambda_*(p*(lambda_plus/(lambda_plus - 1)) + (1-p)*lambda_moins/(lambda_moins+1) -1 )\n",
    "    sqrtc = np.sqrt(c)\n",
    "    for j in range(1, M):\n",
    "        saut = 0\n",
    "        nombre_de_saut = np.random.poisson(lamda)\n",
    "        for i in range( int(nombre_de_saut)):\n",
    "            u=np.random.uniform(0,1)\n",
    "            H = np.random.binomial(n=1, p=p)\n",
    "            saut +=(H *(-math.log(u)/lamda_plus) + (1-H)* math.log(u)/lamda_minus)\n",
    "        z=np.random.normal(0, 1)\n",
    "        interm.append(max(0, x0 * math.exp(b + sqrtc * z +saut) - strike))\n",
    "    #result.append(np.mean(interm))\n",
    "    #result.append(1.96*np.std(interm)/np.sqrt(M))\n",
    "    result = { 'mean': np.mean(interm), 'std': np.std(interm), \n",
    "               'lower': np.mean(interm) - 1.96*np.std(interm)/np.sqrt(M), \n",
    "               'upper': np.mean(interm) + 1.96*np.std(interm)/np.sqrt(M) }\n",
    "    return result\n",
    "\n",
    "def merton_call(M, lamda, delta, strike, x0, T, r, c):\n",
    "    result = []\n",
    "    interm=[]\n",
    "    #float_M = float(M)\n",
    "    b = r - c/2 + lamda * (1 - math.exp((delta**2)/2))\n",
    "    sqrtc = math.sqrt(c)\n",
    "    for j in range(M):\n",
    "        z=np.random.normal(0, 1)\n",
    "        N_T=np.random.poisson(lamda)\n",
    "        z2=np.random.normal(0, 1,N_T)\n",
    "        interm.append(max(0, x0*math.exp(b + sqrtc*z + delta*np.sum(z2))- strike))\n",
    "    #result.append(np.mean(interm))\n",
    "    #result.append(1.96*np.std(interm)/np.sqrt(M))\n",
    "    result = { 'mean': np.mean(interm), 'std': np.std(interm), \n",
    "               'lower': np.mean(interm) - 1.96*np.std(interm)/np.sqrt(M), \n",
    "               'upper': np.mean(interm) + 1.96*np.std(interm)/np.sqrt(M) }\n",
    "    return result\n",
    "\n"
   ]
  },
  {
   "cell_type": "code",
   "execution_count": 4,
   "id": "e6fdb26a",
   "metadata": {},
   "outputs": [],
   "source": [
    "c = 0.04\n",
    "lambda_moins=6\n",
    "lambda_=4\n",
    "lambda_plus=3\n",
    "p=0.5\n",
    "x0=100\n",
    "strike=[80,100,120]\n",
    "T=1\n",
    "kn=1000\n",
    "M=10000\n",
    "r=0.02\n",
    "delta=0.2\n",
    "m=0"
   ]
  },
  {
   "cell_type": "code",
   "execution_count": 5,
   "id": "a9688aae",
   "metadata": {},
   "outputs": [
    {
     "name": "stdout",
     "output_type": "stream",
     "text": [
      "strike: 80\n",
      "{'mean': 45.619489524455, 'std': 204.8993327632459, 'lower': 41.60346260229538, 'upper': 49.635516446614616}\n",
      "strike: 100\n",
      "{'mean': 37.39415714655488, 'std': 198.6544403633697, 'lower': 33.50053011543284, 'upper': 41.287784177676926}\n",
      "strike: 120\n",
      "{'mean': 35.32787579037485, 'std': 171.95587527258962, 'lower': 31.95754063503209, 'upper': 38.698210945717605}\n"
     ]
    }
   ],
   "source": [
    "for s in strike:\n",
    "    print('strike:',s)\n",
    "    print(kou_euler_scheme_call(M, s, x0, T, kn, c, r, lambda_, lambda_plus, lambda_moins, p))"
   ]
  },
  {
   "cell_type": "code",
   "execution_count": 6,
   "id": "c71e3807",
   "metadata": {},
   "outputs": [
    {
     "name": "stdout",
     "output_type": "stream",
     "text": [
      "strike: 80\n",
      "{'mean': 41.88469302583836, 'std': 147.26793140402413, 'lower': 38.998241570319486, 'upper': 44.77114448135723}\n",
      "strike: 100\n",
      "{'mean': 38.62265850833173, 'std': 170.38486634410674, 'lower': 35.28311512798724, 'upper': 41.962201888676226}\n",
      "strike: 120\n",
      "{'mean': 33.62809917455475, 'std': 238.35253566707127, 'lower': 28.95638947548015, 'upper': 38.299808873629345}\n"
     ]
    }
   ],
   "source": [
    "for s in strike:\n",
    "    print('strike:',s)\n",
    "    print(kou_doleans_dade_call(M, p, lambda_, lambda_plus, lambda_moins, s, x0, T, c, r))"
   ]
  },
  {
   "cell_type": "code",
   "execution_count": 7,
   "id": "9f70a330",
   "metadata": {},
   "outputs": [
    {
     "name": "stdout",
     "output_type": "stream",
     "text": [
      "strike: 80\n",
      "{'mean': 42.53902288786276, 'std': 163.90662345202992, 'lower': 39.32645306820297, 'upper': 45.75159270752254}\n",
      "strike: 100\n",
      "{'mean': 37.96344733434406, 'std': 213.99713881854063, 'lower': 33.769103413500666, 'upper': 42.157791255187455}\n",
      "strike: 120\n",
      "{'mean': 33.88081874744275, 'std': 195.40853568137695, 'lower': 30.050811448087764, 'upper': 37.71082604679774}\n"
     ]
    }
   ],
   "source": [
    "for s in strike:\n",
    "    print('strike:',s)\n",
    "    print(kou_doleans_dade_2_call(M, p, lambda_, lambda_plus, lambda_moins, s, x0, T, c, r))"
   ]
  },
  {
   "cell_type": "code",
   "execution_count": 8,
   "id": "03bbbf1a",
   "metadata": {},
   "outputs": [
    {
     "name": "stdout",
     "output_type": "stream",
     "text": [
      "strike: 80\n",
      "{'mean': 29.159709547596634, 'std': 42.78305825363874, 'lower': 28.321161605825314, 'upper': 29.998257489367955}\n",
      "strike: 100\n",
      "{'mean': 18.83575386373814, 'std': 39.008243354807774, 'lower': 18.07119229398391, 'upper': 19.600315433492373}\n",
      "strike: 120\n",
      "{'mean': 11.630592707151731, 'std': 32.83446584130631, 'lower': 10.987037176662128, 'upper': 12.274148237641334}\n"
     ]
    }
   ],
   "source": [
    "for s in strike:\n",
    "    print('strike:',s)\n",
    "    print(merton_call(M, lambda_, delta, s, x0, T, r, c))"
   ]
  },
  {
   "cell_type": "markdown",
   "id": "6e34bb76",
   "metadata": {},
   "source": [
    "## log-contrat"
   ]
  },
  {
   "cell_type": "code",
   "execution_count": 9,
   "id": "a0ab415c",
   "metadata": {},
   "outputs": [],
   "source": [
    "def inverted_h_kou(u, lambda_moins, lambda_plus, p):\n",
    "    if u < 1 - p:\n",
    "        return (u / (1 - p))**(1 / lambda_moins) - 1\n",
    "    else:\n",
    "        return (p / (1 - u))**(1 / lambda_plus) - 1\n",
    "\n",
    "def kou_euler_scheme_log_contrat(M, strike, x0, T, kn, c, r, lambda_, lambda_plus, lambda_moins, p):\n",
    "    result = []\n",
    "    interm=[]\n",
    "    x = x0\n",
    "    b =r -c/2- lambda_*(p*(lambda_plus/(lambda_plus - 1)) + (1-p)*lambda_moins/(lambda_moins+1) -1 )\n",
    "    for j in range(1, M):\n",
    "        \n",
    "        h = 0\n",
    "        saut = 0\n",
    "        x = x0\n",
    "        #grid[:, 0] = np.linspace(0, T, kn+1)\n",
    "        \n",
    "        #grid[1:, 1] = np.random.exponential(lambda_,kn)\n",
    "        grid=grille_sauts(T, kn,lambda_)\n",
    "        for i in range(1, len(grid)):\n",
    "            z=np.random.normal(0, 1)\n",
    "            u=np.random.uniform(0,1)\n",
    "            h = grid[i][0] - grid[i-1][0]\n",
    "            x = x * np.exp(b * h + z * np.sqrt(c * h))\n",
    "            if grid[i][1] != 0:\n",
    "                saut = inverted_h_kou(u, lambda_moins, lambda_plus, p)\n",
    "                x = x * (1 + saut)\n",
    "        interm.append(-2*np.log( x /strike))\n",
    "    #result.append(np.mean(interm))\n",
    "    #result.append(1.96*np.std(interm)/np.sqrt(M))\n",
    "    result = { 'mean': np.mean(interm), 'std': np.std(interm), \n",
    "               'lower': np.mean(interm) - 1.96*np.std(interm)/np.sqrt(M), \n",
    "               'upper': np.mean(interm) + 1.96*np.std(interm)/np.sqrt(M) }\n",
    "    return result\n",
    "\n",
    "def kou_doleans_dade_log_contrat(M, p, lambda_, lambda_plus, lambda_moins, strike, x0, T, c, r):\n",
    "    result = []\n",
    "    interm=[]\n",
    "    y = x0\n",
    "    b = r-c/2- lambda_*(p*(lambda_plus/(lambda_plus - 1)) + (1-p)*lambda_moins/(lambda_moins+1) -1 )\n",
    "    sqrtc = np.sqrt(c)\n",
    "    for j in range(1, M):\n",
    "        saut = 0\n",
    "        y = x0\n",
    "        nbre_de_saut = np.random.poisson(lambda_)\n",
    "        \n",
    "        for i in range(nbre_de_saut):\n",
    "            \n",
    "            u=np.random.uniform(0,1)\n",
    "            saut = inverted_h_kou(u, lambda_moins, lambda_plus, p)\n",
    "            y = y * (1 + saut)\n",
    "        z=np.random.normal(0, 1)\n",
    "        interm.append(-2*np.log( y * np.exp(b + sqrtc*z) /strike))\n",
    "    #result.append(np.mean(interm))\n",
    "    #result.append(1.96*np.std(interm)/np.sqrt(M))\n",
    "    result = { 'mean': np.mean(interm), 'std': np.std(interm), \n",
    "               'lower': np.mean(interm) - 1.96*np.std(interm)/np.sqrt(M), \n",
    "               'upper': np.mean(interm) + 1.96*np.std(interm)/np.sqrt(M) }\n",
    "    return result\n",
    "        \n",
    "\n",
    "def kou_doleans_dade_bis_log_contrat(M, p, lamda, lamda_plus, lamda_minus, strike, x0, T, c, r):\n",
    "    result = []\n",
    "    interm=[]\n",
    "    b =r -c/2- lambda_*(p*(lambda_plus/(lambda_plus - 1)) + (1-p)*lambda_moins/(lambda_moins+1) -1 )\n",
    "    sqrtc = math.sqrt(c)\n",
    "    for j in range(1, M):\n",
    "        saut = 0\n",
    "        nombre_de_saut = np.random.poisson(lamda)\n",
    "        for i in range(1, int(nombre_de_saut)):\n",
    "            u=np.random.uniform(0,1)\n",
    "            H = np.random.binomial(n=1, p=p)\n",
    "            saut +=( H *(-math.log(u)/lamda_plus) + (1-H)* math.log(u)/lamda_minus)\n",
    "        z=np.random.normal(0, 1)\n",
    "        \n",
    "        interm.append(-2*np.log(x0 * math.exp(b + sqrtc * z +saut) / strike))\n",
    "        \n",
    "    #result.append(np.mean(interm))\n",
    "    #result.append(1.96*np.std(interm)/np.sqrt(M))\n",
    "    result = { 'mean': np.mean(interm), 'std': np.std(interm), \n",
    "               'lower': np.mean(interm) - 1.96*np.std(interm)/np.sqrt(M), \n",
    "               'upper': np.mean(interm) + 1.96*np.std(interm)/np.sqrt(M) }\n",
    "    return result\n",
    "\n",
    "\n",
    "def merton_log_contrat(M, lamda, delta, strike, x0, T, r, c):\n",
    "    result = []\n",
    "    interm=[]\n",
    "    b = r - c/2 + lamda * (1 - math.exp((delta**2)/2))\n",
    "    sqrtc = math.sqrt(c)\n",
    "    for j in range(M):\n",
    "        z=np.random.normal(0, 1)\n",
    "        N_T=np.random.poisson(lamda)\n",
    "        z2=np.random.normal(0, 1)\n",
    "       \n",
    "        interm.append( -2*np.log(x0 * math.exp(b + sqrtc*z + delta*math.sqrt(N_T)*z2) /strike))\n",
    "    #result.append(np.mean(interm))\n",
    "    #result.append(1.96*np.std(interm)/np.sqrt(M))\n",
    "    result = { 'mean': np.mean(interm), 'std': np.std(interm), \n",
    "               'lower': np.mean(interm) - 1.96*np.std(interm)/np.sqrt(M), \n",
    "               'upper': np.mean(interm) + 1.96*np.std(interm)/np.sqrt(M) }\n",
    "    return result\n",
    "\n"
   ]
  },
  {
   "cell_type": "code",
   "execution_count": 10,
   "id": "df0e4494",
   "metadata": {},
   "outputs": [],
   "source": [
    "b = 0.01\n",
    "c = 0.04\n",
    "lambda_moins=6\n",
    "lambda_=4\n",
    "lambda_plus=3\n",
    "p=0.5\n",
    "x0=100\n",
    "strike=[80,100,120]\n",
    "T=1\n",
    "kn=1000\n",
    "M=10000\n",
    "r=0.02\n",
    "delta=0.2\n"
   ]
  },
  {
   "cell_type": "code",
   "execution_count": 11,
   "id": "38b34bd1",
   "metadata": {},
   "outputs": [
    {
     "name": "stdout",
     "output_type": "stream",
     "text": [
      "strike: 80\n",
      "{'mean': 0.3119278551986322, 'std': 1.5542781457828532, 'lower': 0.28146400354128825, 'upper': 0.34239170685597614}\n",
      "strike: 100\n",
      "{'mean': 0.7557399262586325, 'std': 1.5448014438442514, 'lower': 0.7254618179592852, 'upper': 0.7860180345579798}\n",
      "strike: 120\n",
      "{'mean': 1.11361547283674, 'std': 1.5616380105046, 'lower': 1.0830073678308498, 'upper': 1.1442235778426302}\n"
     ]
    }
   ],
   "source": [
    "for s in strike:\n",
    "    print('strike:',s)\n",
    "    print(kou_euler_scheme_log_contrat(M, s, x0, T, kn, c, r, lambda_, lambda_plus, lambda_moins, p))"
   ]
  },
  {
   "cell_type": "code",
   "execution_count": 12,
   "id": "7ada13ad",
   "metadata": {},
   "outputs": [
    {
     "name": "stdout",
     "output_type": "stream",
     "text": [
      "strike: 80\n",
      "{'mean': 0.32305415207132304, 'std': 1.5553396410448892, 'lower': 0.2925694951068432, 'upper': 0.35353880903580287}\n",
      "strike: 100\n",
      "{'mean': 0.7616597273470848, 'std': 1.5307401071022437, 'lower': 0.7316572212478808, 'upper': 0.7916622334462887}\n",
      "strike: 120\n",
      "{'mean': 1.1409919736748855, 'std': 1.5408460069140615, 'lower': 1.11079139193937, 'upper': 1.171192555410401}\n"
     ]
    }
   ],
   "source": [
    "for s in strike:\n",
    "    print('strike:',s)\n",
    "    print(kou_doleans_dade_log_contrat(M, p, lambda_, lambda_plus, lambda_moins, s, x0, T, c, r))"
   ]
  },
  {
   "cell_type": "code",
   "execution_count": 13,
   "id": "64ded999",
   "metadata": {},
   "outputs": [
    {
     "name": "stdout",
     "output_type": "stream",
     "text": [
      "strike: 80\n"
     ]
    },
    {
     "ename": "NameError",
     "evalue": "name 'kou_doleans_dade_2_log_contrat' is not defined",
     "output_type": "error",
     "traceback": [
      "\u001b[1;31m---------------------------------------------------------------------------\u001b[0m",
      "\u001b[1;31mNameError\u001b[0m                                 Traceback (most recent call last)",
      "\u001b[1;32m~\\AppData\\Local\\Temp/ipykernel_1320/3272163613.py\u001b[0m in \u001b[0;36m<module>\u001b[1;34m\u001b[0m\n\u001b[0;32m      1\u001b[0m \u001b[1;32mfor\u001b[0m \u001b[0ms\u001b[0m \u001b[1;32min\u001b[0m \u001b[0mstrike\u001b[0m\u001b[1;33m:\u001b[0m\u001b[1;33m\u001b[0m\u001b[1;33m\u001b[0m\u001b[0m\n\u001b[0;32m      2\u001b[0m     \u001b[0mprint\u001b[0m\u001b[1;33m(\u001b[0m\u001b[1;34m'strike:'\u001b[0m\u001b[1;33m,\u001b[0m\u001b[0ms\u001b[0m\u001b[1;33m)\u001b[0m\u001b[1;33m\u001b[0m\u001b[1;33m\u001b[0m\u001b[0m\n\u001b[1;32m----> 3\u001b[1;33m     \u001b[0mprint\u001b[0m\u001b[1;33m(\u001b[0m\u001b[0mkou_doleans_dade_2_log_contrat\u001b[0m\u001b[1;33m(\u001b[0m\u001b[0mM\u001b[0m\u001b[1;33m,\u001b[0m \u001b[0mp\u001b[0m\u001b[1;33m,\u001b[0m \u001b[0mlambda_\u001b[0m\u001b[1;33m,\u001b[0m \u001b[0mlambda_plus\u001b[0m\u001b[1;33m,\u001b[0m \u001b[0mlambda_moins\u001b[0m\u001b[1;33m,\u001b[0m \u001b[0ms\u001b[0m\u001b[1;33m,\u001b[0m \u001b[0mx0\u001b[0m\u001b[1;33m,\u001b[0m \u001b[0mT\u001b[0m\u001b[1;33m,\u001b[0m \u001b[0mc\u001b[0m\u001b[1;33m,\u001b[0m \u001b[0mr\u001b[0m\u001b[1;33m)\u001b[0m\u001b[1;33m)\u001b[0m\u001b[1;33m\u001b[0m\u001b[1;33m\u001b[0m\u001b[0m\n\u001b[0m",
      "\u001b[1;31mNameError\u001b[0m: name 'kou_doleans_dade_2_log_contrat' is not defined"
     ]
    }
   ],
   "source": [
    "for s in strike:\n",
    "    print('strike:',s)\n",
    "    print(kou_doleans_dade_2_log_contrat(M, p, lambda_, lambda_plus, lambda_moins, s, x0, T, c, r))"
   ]
  },
  {
   "cell_type": "code",
   "execution_count": null,
   "id": "589c290a",
   "metadata": {},
   "outputs": [],
   "source": [
    "for s in strike:\n",
    "    print('strike:',s)\n",
    "    print(merton_log_contrat(M, lambda_, delta, s, x0, T, r, c))"
   ]
  },
  {
   "cell_type": "code",
   "execution_count": null,
   "id": "661be83a",
   "metadata": {},
   "outputs": [],
   "source": []
  }
 ],
 "metadata": {
  "kernelspec": {
   "display_name": "Python 3 (ipykernel)",
   "language": "python",
   "name": "python3"
  },
  "language_info": {
   "codemirror_mode": {
    "name": "ipython",
    "version": 3
   },
   "file_extension": ".py",
   "mimetype": "text/x-python",
   "name": "python",
   "nbconvert_exporter": "python",
   "pygments_lexer": "ipython3",
   "version": "3.8.2"
  }
 },
 "nbformat": 4,
 "nbformat_minor": 5
}
