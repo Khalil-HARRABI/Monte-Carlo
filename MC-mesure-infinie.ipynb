{
 "cells": [
  {
   "cell_type": "code",
   "execution_count": 5,
   "id": "6db54075",
   "metadata": {},
   "outputs": [],
   "source": [
    "import numpy as np\n",
    "import matplotlib.pyplot as plt\n",
    "import pandas as pd \n",
    "import seaborn as sns\n",
    "import numpy.random as npr  \n",
    "from numpy.random import default_rng, SeedSequence"
   ]
  },
  {
   "cell_type": "markdown",
   "id": "e31600d0",
   "metadata": {},
   "source": [
    "### grille des sauts"
   ]
  },
  {
   "cell_type": "code",
   "execution_count": 6,
   "id": "fa9ff5c3",
   "metadata": {},
   "outputs": [],
   "source": [
    "def grille_sauts(T, kn,lamda):\n",
    "    jumps_t = []\n",
    "    grid = []\n",
    "    x =  np.random.exponential(1/lamda)\n",
    "    sum_x = x\n",
    "    \n",
    "    vec = []\n",
    "    t = 0\n",
    "    vec.append(t)\n",
    "    vec.append(0)\n",
    "    grid.append(vec)\n",
    "    vec = []\n",
    "    \n",
    "    # construction of the jump times\n",
    "    while sum_x < T:\n",
    "        jumps_t.append(sum_x)\n",
    "        x = np.random.exponential(lamda)\n",
    "        sum_x += x\n",
    "    \n",
    "    i = 0\n",
    "    # construction of the grid on the interval [0,last jump]\n",
    "    jump_size = len(jumps_t)\n",
    "    epsilon = 0\n",
    "    while t < T and i < jump_size:\n",
    "        epsilon = 0\n",
    "        t = min(t + 1.0/kn, jumps_t[i])\n",
    "        if t == jumps_t[i]:\n",
    "            i += 1\n",
    "            epsilon = 1 # it is a jump time\n",
    "        \n",
    "        vec.append(t)\n",
    "        vec.append(epsilon)\n",
    "        grid.append(vec)\n",
    "        \n",
    "        vec = []\n",
    "    \n",
    "    # to construct the grid on the inverval ]last jump, T]\n",
    "    while t < T:\n",
    "        t += 1.0/kn\n",
    "        \n",
    "        vec.append(t)\n",
    "        vec.append(0) # epsilon = 0\n",
    "        grid.append(vec)\n",
    "        \n",
    "        vec = []\n",
    "    \n",
    "    vec = []\n",
    "    vec.append(T)\n",
    "    vec.append(0)\n",
    "    \n",
    "    if grid[-1][0] < T:\n",
    "        grid.append(vec)\n",
    "    \n",
    "    if grid[-1][0] > T:\n",
    "        grid.pop()\n",
    "        grid.append(vec)\n",
    "    \n",
    "    return grid\n"
   ]
  },
  {
   "cell_type": "markdown",
   "id": "d54ebfa0",
   "metadata": {},
   "source": [
    "# mesure infinie"
   ]
  },
  {
   "cell_type": "code",
   "execution_count": 7,
   "id": "ec539f01",
   "metadata": {},
   "outputs": [],
   "source": [
    "b = 0.01\n",
    "c = 0.04\n",
    "un = 10 ** 4\n",
    "bn = b\n",
    "alpha_1 = 1.3\n",
    "alpha_2 = 2.0 / 3.0\n",
    "theta_n_1 = (2.0 * un ** alpha_1) / alpha_1\n",
    "wn_1 = (2.0 - alpha_1) / 2.0 * un ** ((2.0 - alpha_1) / 2.0)\n",
    "theta_n_2 = (2.0 * un ** alpha_2 - 1.0) / alpha_2\n",
    "wn_2 = (2.0 * un ** (alpha_2 - 2.0) / (2.0 - alpha_2)) ** (-1.0 / 2.0)\n"
   ]
  },
  {
   "cell_type": "markdown",
   "id": "0e8ed5cb",
   "metadata": {},
   "source": [
    "### call"
   ]
  },
  {
   "cell_type": "code",
   "execution_count": 23,
   "id": "b5b55551",
   "metadata": {},
   "outputs": [],
   "source": [
    "import math\n",
    "import random\n",
    "\n",
    "def k_n(theta_n, bn, c, w_n):\n",
    "    if min(theta_n / (bn ** 2), math.sqrt(theta_n) / c) >= w_n:\n",
    "        return 1\n",
    "    else:\n",
    "        return max(bn ** 2 * w_n, (c * w_n) ** 2)\n",
    "\n",
    "def inverted_h_premiere_mesure_infinie(u, alpha, theta_n, un):\n",
    "    if u < 1 / 2:\n",
    "        return -((2 * u) ** (-1 / alpha)) / un\n",
    "    else:\n",
    "        return ((2 - alpha * theta_n * u / un ** alpha) ** (-1 / alpha)) / un\n",
    "\n",
    "def inverted_h_seconde_mesure_infinie(u, alpha, theta_n, un):\n",
    "    if u < (1 / (alpha * theta_n)) * (un ** alpha - 1):\n",
    "        return -((alpha * theta_n * u + 1) ** (-1 / alpha))\n",
    "    else:\n",
    "        return ((-alpha * theta_n * u + 2 * un ** alpha - 1) ** (-1 / alpha))\n",
    "    \n",
    "def mc_pricer_euler_scheme_call_1(M, strike, x0, T, kn, un, c, bn, alpha, theta_n):\n",
    "    result = []\n",
    "    grid = []\n",
    "    interm=[]\n",
    "    x = x0\n",
    "    \n",
    "    for j in range(1, M):\n",
    "        h = 0\n",
    "        saut = 0\n",
    "        x = x0\n",
    "        grid = grille_sauts(T, kn, theta_n)        \n",
    "        for i in range(1, len(grid)):\n",
    "            z=np.random.normal(0, 1)\n",
    "            u=np.random.uniform(0,1)\n",
    "            h = grid[i][0] - grid[i-1][0]\n",
    "            var_norm = z * math.sqrt(c * h)\n",
    "            x = x * (1 + bn * h + var_norm)\n",
    "            if grid[i][1] != 0:\n",
    "                saut = inverted_h_premiere_mesure_infinie(random.uniform(0, 1), alpha_1, theta_N_1, uN)\n",
    "                x = x * (1 + saut)\n",
    "                \n",
    "        interm.append(max(0, x - strike))\n",
    "    result = { 'mean': np.mean(interm), 'std': np.std(interm), \n",
    "               'lower': np.mean(interm) - 1.96*np.std(interm)/np.sqrt(M), \n",
    "               'upper': np.mean(interm) + 1.96*np.std(interm)/np.sqrt(M) }\n",
    "    return result\n",
    "\n",
    "def mc_pricer_euler_scheme_call_2(M, strike, x0, T, kn, un, c, bn, alpha, theta_n):\n",
    "    result = []\n",
    "    grid = []\n",
    "    interm=[]\n",
    "    x = x0\n",
    "    \n",
    "    for j in range(1, M):\n",
    "        h = 0\n",
    "        saut = 0\n",
    "        x = x0\n",
    "        grid = grille_sauts(T, kn, theta_n)        \n",
    "        for i in range(1, len(grid)):\n",
    "            z=np.random.normal(0, 1)\n",
    "            u=np.random.uniform(0,1)\n",
    "            h = grid[i][0] - grid[i-1][0]\n",
    "            var_norm = z * math.sqrt(c * h)\n",
    "            x = x * (1 + bn * h + var_norm)\n",
    "            if grid[i][1] != 0:\n",
    "                saut = inverted_h_seconde_mesure_infinie(random.uniform(0, 1), alpha_1, theta_N_1, uN)\n",
    "                x = x * (1 + saut)\n",
    "                \n",
    "        interm.append(max(0, x - strike))\n",
    "    result = { 'mean': np.mean(interm), 'std': np.std(interm), \n",
    "               'lower': np.mean(interm) - 1.96*np.std(interm)/np.sqrt(M), \n",
    "               'upper': np.mean(interm) + 1.96*np.std(interm)/np.sqrt(M) }\n",
    "    return result"
   ]
  },
  {
   "cell_type": "code",
   "execution_count": 38,
   "id": "2ba51fdf",
   "metadata": {},
   "outputs": [
    {
     "name": "stdout",
     "output_type": "stream",
     "text": [
      "{'mean': 126.99371310480663, 'std': 91.1946300674981, 'lower': 121.34141137356715, 'upper': 132.6460148360461}\n"
     ]
    }
   ],
   "source": [
    "M = 1000  # Number of paths\n",
    "x0 = 100  # Spot\n",
    "T = 1\n",
    "uN = pow(10, 4)\n",
    "alpha_1 = 1.5\n",
    "alpha_2 = 1.8\n",
    "bn = 1\n",
    "c = 1\n",
    "theta_N_1 = (2.0 * pow(uN, alpha_1)) / alpha_1\n",
    "wN_1 = np.sqrt((2.0 - alpha_1) / 2.0) * pow(uN, (2.0 - alpha_1) / 2.0)\n",
    "theta_N_2 = (2.0 * pow(uN, alpha_2) - 1.0) / alpha_2\n",
    "wN_2 = pow(2.0 * pow(uN, alpha_2 - 2.0) / (2.0 - alpha_2), -1.0 / 2.0)\n",
    "kN_1 = k_n(theta_N_1, bn, c, wN_1)\n",
    "kN_2 = k_n(theta_N_2, bn, c, wN_2)\n",
    "\n",
    "strike=80\n",
    "kn = 1000\n",
    "\n",
    "\n",
    "invertedh=inverted_h_premiere_mesure_infinie(uN, alpha_1, theta_N_1, uN)\n",
    "\n",
    "print(mc_pricer_euler_scheme_call_1(M, strike, x0, T, kN_1, uN, c, bn, alpha_1, theta_N_1))"
   ]
  },
  {
   "cell_type": "code",
   "execution_count": 39,
   "id": "d60d094d",
   "metadata": {},
   "outputs": [
    {
     "name": "stdout",
     "output_type": "stream",
     "text": [
      "{'mean': 127.40661854065135, 'std': 87.7981639071966, 'lower': 121.96483196303177, 'upper': 132.84840511827093}\n"
     ]
    }
   ],
   "source": [
    "print(mc_pricer_euler_scheme_call_2(M, strike, x0, T, kN_1, uN, c, bn, alpha_1, theta_N_1))"
   ]
  },
  {
   "cell_type": "markdown",
   "id": "8385b80a",
   "metadata": {},
   "source": [
    "### log-contrat"
   ]
  },
  {
   "cell_type": "code",
   "execution_count": 16,
   "id": "aa5ec00a",
   "metadata": {},
   "outputs": [],
   "source": [
    "def mc_pricer_euler_scheme_logcontrat(M, strike, x0, T, kn, un, c, bn, alpha, theta_n, invertedh):\n",
    "    result = []\n",
    "    x = x0\n",
    "    saut = 0\n",
    "    interm=[]\n",
    "    grid_taille = 0\n",
    "    \n",
    "    for j in range(1, M):\n",
    "        h = 0\n",
    "        saut = 0\n",
    "        x = x0\n",
    "        grid = grille_sauts(T, kn, theta_n)\n",
    "        grid_taille = len(grid)\n",
    "        \n",
    "        for i in range(1, grid_taille):\n",
    "            z=np.random.normal(0, 1)\n",
    "            u=np.random.uniform(0,1)\n",
    "            h = grid[i][0] - grid[i-1][0]\n",
    "            var_norm = z * math.sqrt(c * h)\n",
    "            x = x * (1 + bn * h + var_norm)\n",
    "            if grid[i][1] != 0:\n",
    "                saut = inverted_h_seconde_mesure_infinie(random.uniform(0, 1), alpha_1, theta_N_1, uN)\n",
    "                x = x * (1 + saut)\n",
    "                \n",
    "        interm.append(-2 * np.log(x / x0))\n",
    "    result = { 'mean': np.mean(interm), 'std': np.std(interm), \n",
    "               'lower': np.mean(interm) - 1.96*np.std(interm)/np.sqrt(M), \n",
    "               'upper': np.mean(interm) + 1.96*np.std(interm)/np.sqrt(M) }\n",
    "    return result"
   ]
  },
  {
   "cell_type": "code",
   "execution_count": 17,
   "id": "ccd25d24",
   "metadata": {},
   "outputs": [
    {
     "name": "stderr",
     "output_type": "stream",
     "text": [
      "C:\\Users\\MSI\\AppData\\Local\\Temp/ipykernel_1472/2868153095.py:25: RuntimeWarning: invalid value encountered in log\n",
      "  interm.append(-2 * np.log(x / x0))\n"
     ]
    },
    {
     "data": {
      "text/plain": [
       "{'mean': nan, 'std': nan, 'lower': nan, 'upper': nan}"
      ]
     },
     "execution_count": 17,
     "metadata": {},
     "output_type": "execute_result"
    }
   ],
   "source": [
    "M = 1000  # Number of paths\n",
    "x0 = 100  # Spot\n",
    "T = 1\n",
    "uN = pow(10, 4)\n",
    "alpha_1 = 1.5\n",
    "alpha_2 = 1.8\n",
    "bn = 1\n",
    "c = 1\n",
    "theta_N_1 = (2.0 * pow(uN, alpha_1)) / alpha_1\n",
    "wN_1 = np.sqrt((2.0 - alpha_1) / 2.0) * pow(uN, (2.0 - alpha_1) / 2.0)\n",
    "theta_N_2 = (2.0 * pow(uN, alpha_2) - 1.0) / alpha_2\n",
    "wN_2 = pow(2.0 * pow(uN, alpha_2 - 2.0) / (2.0 - alpha_2), -1.0 / 2.0)\n",
    "kN_1 = k_n(theta_N_1, bn, c, wN_1)\n",
    "kN_2 = k_n(theta_N_2, bn, c, wN_2)\n",
    "\n",
    "strike = 120\n",
    "kn = 1000\n",
    "\n",
    "\n",
    "invertedh=inverted_h_premiere_mesure_infinie(uN, alpha_1, theta_N_1, uN)\n",
    "\n",
    "mc_pricer_euler_scheme_logcontrat(M, strike, x0, T, kN_1, uN, c, bn, alpha_1, theta_N_1, invertedh)"
   ]
  },
  {
   "cell_type": "code",
   "execution_count": null,
   "id": "07e04c3a",
   "metadata": {},
   "outputs": [],
   "source": []
  }
 ],
 "metadata": {
  "kernelspec": {
   "display_name": "Python 3 (ipykernel)",
   "language": "python",
   "name": "python3"
  },
  "language_info": {
   "codemirror_mode": {
    "name": "ipython",
    "version": 3
   },
   "file_extension": ".py",
   "mimetype": "text/x-python",
   "name": "python",
   "nbconvert_exporter": "python",
   "pygments_lexer": "ipython3",
   "version": "3.8.2"
  }
 },
 "nbformat": 4,
 "nbformat_minor": 5
}
