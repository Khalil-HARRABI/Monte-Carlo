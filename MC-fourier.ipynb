{
 "cells": [
  {
   "cell_type": "code",
   "execution_count": 1,
   "id": "893a1c8c",
   "metadata": {},
   "outputs": [],
   "source": [
    "import numpy as np\n",
    "import matplotlib.pyplot as plt\n",
    "from scipy.stats import norm"
   ]
  },
  {
   "cell_type": "code",
   "execution_count": 2,
   "id": "4ab51051",
   "metadata": {},
   "outputs": [],
   "source": [
    "x0 = 100  # Spot\n",
    "T = 1\n",
    "lambda_moins=6\n",
    "lambda_=4\n",
    "lambda_plus=3\n",
    "delta_m=0.2\n",
    "N=2**11\n",
    "delta=1\n",
    "L=delta*(N-1)\n",
    "sigma=0.2\n",
    "c=0.2\n",
    "p=0.5\n",
    "r=0.02\n",
    "k=100\n",
    "k0=np.log(0.6*x0)-np.log(x0)"
   ]
  },
  {
   "cell_type": "markdown",
   "id": "65720778",
   "metadata": {},
   "source": [
    "## KOU"
   ]
  },
  {
   "cell_type": "code",
   "execution_count": 3,
   "id": "cd9e68cc",
   "metadata": {},
   "outputs": [],
   "source": [
    "def Phi_BS(sigma1,T,v):\n",
    "    return np.exp(-sigma1**2 *T/2 *(v**2 +1j*v))\n",
    "\n",
    "\n",
    "def Phi_kou(u,r,sigma,T,p,lambda_,lambda_plus,lambda_moins):\n",
    "    b = -(sigma**2)/2- lambda_*(p*(lambda_plus/(lambda_plus - 1)) + (1-p)*lambda_moins/(lambda_moins+1) -1 )\n",
    "    return(np.exp(T*(-sigma**2 /2 + 1j*b*u+ 1j*u*lambda_*(p/(lambda_plus - 1j*u) -(1-p) /(lambda_moins+1j*u)))))\n",
    "\n",
    "\n",
    "\n",
    "def ksi_kou(u,r,sigma,T,p,lambda_,lambda_plus,lambda_moins):  \n",
    "    return(np.exp(1j*u*r*T)*(Phi_kou(u-1j,r,sigma,T,p,lambda_,lambda_plus,lambda_moins)-Phi_BS(0.2,T,u-1j) )/(1j*u*(1+1j*u)))"
   ]
  },
  {
   "cell_type": "code",
   "execution_count": 4,
   "id": "78ad0a3c",
   "metadata": {},
   "outputs": [],
   "source": [
    "def R_n_kou(N,L,k,x0,r,sigma,T,p,lambda_,lambda_plus,lambda_moins,delta):\n",
    "    resu=[]\n",
    "    k_tilde=k#-np.log(x0)\n",
    "    for m in range(N):\n",
    "        km=k_tilde+2*np.pi*m/(N*delta)\n",
    "        wm = 2/3 if m % 2 == 0 else 4/3\n",
    "        if m==0:\n",
    "            wm=1/3\n",
    "        #exp1=np.exp(-1j*k_tilde*((-L/2)+m*delta))\n",
    "        vm=-L/2+m*delta\n",
    "        resu.append(wm*ksi_kou(vm,r,sigma,T,p,lambda_,lambda_plus,lambda_moins)*np.exp(-1j*k*delta*m))\n",
    "    return resu#*L/(2*np.pi*(N-1))*np.exp(1j*k*L/2)\n",
    "\n",
    "\n",
    "def european_call(K,T,sig,r,S_t,t=0):\n",
    "    d1=(1/(sig*np.sqrt(T-t)))*(np.log(S_t/K)+(r+((sig**2)/2))*(T-t))\n",
    "    d2=d1-sig*np.sqrt(T-t)\n",
    "    C=S_t*(norm.cdf(d1))-K*np.exp(-r*(T-t))*norm.cdf(d2)\n",
    "    return C \n",
    "\n",
    "def pricing_fourrier(R_n,delta,X0,r,T,k,N,L):\n",
    "    prices=[]\n",
    "    for i in range(N):\n",
    "        call_bs=european_call(np.exp(k0+ 2*np.pi*(i/(N*delta))),1,0.2,r,1)\n",
    "        #print(call_bs)\n",
    "        #print( (np.pi * i / (N * delta) )* L/2)\n",
    "        #print((k0 + 2 * np.pi * i / (N * delta) )* L/2)\n",
    "        prices.append(x0*(call_bs+R_n[i]*(L/(2*np.pi*(N-1)))*np.exp(1j*(k0 +( 2 * np.pi * i / (N * delta) )* L/2))))\n",
    "    return prices"
   ]
  },
  {
   "cell_type": "code",
   "execution_count": 5,
   "id": "17d26165",
   "metadata": {},
   "outputs": [
    {
     "name": "stderr",
     "output_type": "stream",
     "text": [
      "c:\\users\\msi\\appdata\\local\\programs\\python\\python38-32\\lib\\site-packages\\matplotlib\\cbook\\__init__.py:1333: ComplexWarning: Casting complex values to real discards the imaginary part\n",
      "  return np.asarray(x, float)\n"
     ]
    },
    {
     "data": {
      "image/png": "[encoded data removed]",
      "text/plain": [
       "<Figure size 432x288 with 1 Axes>"
      ]
     },
     "metadata": {
      "needs_background": "light"
     },
     "output_type": "display_data"
    }
   ],
   "source": [
    "Kou=(R_n_kou(N,L,k,x0,r,c,T,p,lambda_,lambda_plus,lambda_moins,delta))\n",
    "Kou=np.fft.ifft(Kou)\n",
    "plt.plot(pricing_fourrier(Kou,delta,x0,r,T,np.log(0.6),N,L))\n",
    "plt.show()"
   ]
  },
  {
   "cell_type": "markdown",
   "id": "f98180a0",
   "metadata": {},
   "source": [
    "## merton"
   ]
  },
  {
   "cell_type": "code",
   "execution_count": 6,
   "id": "b000f9ea",
   "metadata": {},
   "outputs": [],
   "source": [
    "def Phi_BS(sigma1,T,v):\n",
    "    return np.exp(-sigma1**2 *T/2 *(v**2 +1j*v))\n",
    "\n",
    "\n",
    "def Phi_merton(u,r,sigma,T,p,lambda_,delta_m):\n",
    "    b = - c/2 + lambda_ * (1 - np.exp((delta_m**2)/2))\n",
    "    return(np.exp(T*(-sigma**2 /2 + 1j*b*u+ lambda_*np.exp(-delta_m**2 *u**2 /2 )-1)))\n",
    "\n",
    "\n",
    "\n",
    "def ksi_m(u,r,sigma,T,p,delta_m,lambda_):  \n",
    "    return(np.exp(1j*u*r*T)*(Phi_merton(u-1j,r,sigma,T,p,lambda_,delta_m)-Phi_BS(0.2,T,u-1j) )/(1j*u*(1+1j*u)))"
   ]
  },
  {
   "cell_type": "code",
   "execution_count": 7,
   "id": "32728bce",
   "metadata": {},
   "outputs": [],
   "source": [
    "def R_n_merton(N,L,k,x0,r,sigma,T,p,lambda_,delta_m,delta):\n",
    "    resu=[]\n",
    "    #k_tilde=k#-np.log(x0)\n",
    "    for m in range(N):\n",
    "        #km=k_tilde+2*np.pi*m/(N*delta)\n",
    "        km=k+2*np.pi*m/(N*delta)\n",
    "        wm = 2/3 if m % 2 == 0 else 4/3\n",
    "        if m==0:\n",
    "            wm=1/3\n",
    "        #exp1=np.exp(-1j*k_tilde*((-L/2)+m*delta))\n",
    "        vm=-L/2+m*delta\n",
    "        resu.append(wm*ksi_m(vm,r,sigma,T,p,lambda_,delta_m)*np.exp(-1j*m*k))\n",
    "    #return np.sum(resu)#*L/(2*np.pi*(N-1))#*np.exp(1j*k*L/2)\n",
    "    return resu\n",
    "def pricing_fourrier(R_n,delta,X0,r,T,k0,N,L):\n",
    "    prices=[]\n",
    "    for i in range(N):\n",
    "        call_bs=european_call(np.exp(k0+ 2*np.pi*(i/(N*delta))),1,0.2,r,1)\n",
    "        #print(call_bs)\n",
    "        #print( (np.pi * i / (N * delta) )* L/2)\n",
    "        #print((k0 + 2 * np.pi * i / (N * delta) )* L/2)\n",
    "        prices.append(x0*(call_bs+R_n[i]*(L/(2*np.pi*(N-1)))*np.exp(1j*(k0 +( 2 * np.pi * i / (N * delta) )* L/2))))\n",
    "    return prices\n"
   ]
  },
  {
   "cell_type": "code",
   "execution_count": 8,
   "id": "569462ad",
   "metadata": {},
   "outputs": [
    {
     "data": {
      "image/png": "[encoded data removed]",
      "text/plain": [
       "<Figure size 432x288 with 1 Axes>"
      ]
     },
     "metadata": {
      "needs_background": "light"
     },
     "output_type": "display_data"
    }
   ],
   "source": [
    "Merton=(R_n_merton(N,L,k0,x0,r,sigma,T,p,lambda_,delta_m,delta))\n",
    "Merton=np.fft.ifft(Merton)\n",
    "plt.plot(pricing_fourrier(Merton,delta,x0,r,T,np.log(0.6),N,L))\n",
    "plt.show()"
   ]
  },
  {
   "cell_type": "code",
   "execution_count": 9,
   "id": "580c2bcc",
   "metadata": {},
   "outputs": [],
   "source": [
    "t=pricing_fourrier(Merton,delta,x0,r,T,np.log(0.6),N,L)"
   ]
  }
 ],
 "metadata": {
  "kernelspec": {
   "display_name": "Python 3 (ipykernel)",
   "language": "python",
   "name": "python3"
  },
  "language_info": {
   "codemirror_mode": {
    "name": "ipython",
    "version": 3
   },
   "file_extension": ".py",
   "mimetype": "text/x-python",
   "name": "python",
   "nbconvert_exporter": "python",
   "pygments_lexer": "ipython3",
   "version": "3.8.2"
  }
 },
 "nbformat": 4,
 "nbformat_minor": 5
}
